{
  "cells": [
    {
      "cell_type": "code",
      "execution_count": 1,
      "metadata": {
        "colab": {
          "base_uri": "https://localhost:8080/"
        },
        "id": "GkwEEYje65WY",
        "outputId": "6fd820a9-8e7c-464f-ebed-1004f869e908"
      },
      "outputs": [
        {
          "output_type": "stream",
          "name": "stdout",
          "text": [
            "Mounted at /content/gdrive\n"
          ]
        }
      ],
      "source": [
        "from google.colab import drive\n",
        "drive.mount(\"/content/gdrive\", force_remount = True)"
      ]
    },
    {
      "cell_type": "code",
      "execution_count": 2,
      "metadata": {
        "colab": {
          "base_uri": "https://localhost:8080/"
        },
        "id": "PMIhiTqF67uo",
        "outputId": "767f5d5a-abff-4234-c5ba-f14afc2bd911"
      },
      "outputs": [
        {
          "output_type": "stream",
          "name": "stdout",
          "text": [
            "Collecting flask-ngrok\n",
            "  Downloading flask_ngrok-0.0.25-py3-none-any.whl (3.1 kB)\n",
            "Requirement already satisfied: Flask>=0.8 in /usr/local/lib/python3.7/dist-packages (from flask-ngrok) (1.1.4)\n",
            "Requirement already satisfied: requests in /usr/local/lib/python3.7/dist-packages (from flask-ngrok) (2.23.0)\n",
            "Requirement already satisfied: Werkzeug<2.0,>=0.15 in /usr/local/lib/python3.7/dist-packages (from Flask>=0.8->flask-ngrok) (1.0.1)\n",
            "Requirement already satisfied: itsdangerous<2.0,>=0.24 in /usr/local/lib/python3.7/dist-packages (from Flask>=0.8->flask-ngrok) (1.1.0)\n",
            "Requirement already satisfied: click<8.0,>=5.1 in /usr/local/lib/python3.7/dist-packages (from Flask>=0.8->flask-ngrok) (7.1.2)\n",
            "Requirement already satisfied: Jinja2<3.0,>=2.10.1 in /usr/local/lib/python3.7/dist-packages (from Flask>=0.8->flask-ngrok) (2.11.3)\n",
            "Requirement already satisfied: MarkupSafe>=0.23 in /usr/local/lib/python3.7/dist-packages (from Jinja2<3.0,>=2.10.1->Flask>=0.8->flask-ngrok) (2.0.1)\n",
            "Requirement already satisfied: chardet<4,>=3.0.2 in /usr/local/lib/python3.7/dist-packages (from requests->flask-ngrok) (3.0.4)\n",
            "Requirement already satisfied: certifi>=2017.4.17 in /usr/local/lib/python3.7/dist-packages (from requests->flask-ngrok) (2021.10.8)\n",
            "Requirement already satisfied: idna<3,>=2.5 in /usr/local/lib/python3.7/dist-packages (from requests->flask-ngrok) (2.10)\n",
            "Requirement already satisfied: urllib3!=1.25.0,!=1.25.1,<1.26,>=1.21.1 in /usr/local/lib/python3.7/dist-packages (from requests->flask-ngrok) (1.24.3)\n",
            "Installing collected packages: flask-ngrok\n",
            "Successfully installed flask-ngrok-0.0.25\n"
          ]
        }
      ],
      "source": [
        "!pip install flask-ngrok"
      ]
    },
    {
      "cell_type": "code",
      "execution_count": 3,
      "metadata": {
        "colab": {
          "base_uri": "https://localhost:8080/"
        },
        "id": "iJ-pOQT067r_",
        "outputId": "e1fdd0b7-fbb0-49d9-a13b-3fd6148e0079"
      },
      "outputs": [
        {
          "output_type": "stream",
          "name": "stdout",
          "text": [
            "/drive/ngrok-ssh\n",
            "--2022-04-19 09:37:36--  https://bin.equinox.io/c/4VmDzA7iaHb/ngrok-stable-linux-amd64.zip\n",
            "Resolving bin.equinox.io (bin.equinox.io)... 52.202.168.65, 54.237.133.81, 18.205.222.128, ...\n",
            "Connecting to bin.equinox.io (bin.equinox.io)|52.202.168.65|:443... connected.\n",
            "HTTP request sent, awaiting response... 200 OK\n",
            "Length: 13832437 (13M) [application/octet-stream]\n",
            "Saving to: ‘ngrok-stable-linux-amd64.zip’\n",
            "\n",
            "ngrok-stable-linux- 100%[===================>]  13.19M  3.51MB/s    in 4.9s    \n",
            "\n",
            "2022-04-19 09:37:41 (2.69 MB/s) - ‘ngrok-stable-linux-amd64.zip’ saved [13832437/13832437]\n",
            "\n",
            "Archive:  ngrok-stable-linux-amd64.zip\n",
            "  inflating: ngrok                   \n"
          ]
        }
      ],
      "source": [
        "!mkdir -p /drive/ngrok-ssh\n",
        "%cd /drive/ngrok-ssh\n",
        "!wget https://bin.equinox.io/c/4VmDzA7iaHb/ngrok-stable-linux-amd64.zip -O ngrok-stable-linux-amd64.zip\n",
        "!unzip -u ngrok-stable-linux-amd64.zip\n",
        "!cp /drive/ngrok-ssh/ngrok /ngrok\n",
        "!chmod +x /ngrok"
      ]
    },
    {
      "cell_type": "code",
      "execution_count": 4,
      "metadata": {
        "colab": {
          "base_uri": "https://localhost:8080/"
        },
        "id": "0zGnjWOq67pK",
        "outputId": "104b36a5-2a61-4dbd-f69c-5f27edab5ebc"
      },
      "outputs": [
        {
          "output_type": "stream",
          "name": "stdout",
          "text": [
            "Authtoken saved to configuration file: /root/.ngrok2/ngrok.yml\n"
          ]
        }
      ],
      "source": [
        "!/ngrok authtoken 26EUUR0GrMZSuscYNumIYtVGRr2_5KKCdnmdfXx22QibUYSKn"
      ]
    },
    {
      "cell_type": "code",
      "execution_count": 5,
      "metadata": {
        "colab": {
          "base_uri": "https://localhost:8080/",
          "height": 732
        },
        "id": "_FA3H9GE67mi",
        "outputId": "343dba6b-3aee-4fe5-9ee9-6e70b87298eb"
      },
      "outputs": [
        {
          "output_type": "stream",
          "name": "stdout",
          "text": [
            "Collecting wfdb\n",
            "  Downloading wfdb-3.4.1-py3-none-any.whl (137 kB)\n",
            "\u001b[?25l\r\u001b[K     |██▍                             | 10 kB 25.5 MB/s eta 0:00:01\r\u001b[K     |████▊                           | 20 kB 22.6 MB/s eta 0:00:01\r\u001b[K     |███████▏                        | 30 kB 17.7 MB/s eta 0:00:01\r\u001b[K     |█████████▌                      | 40 kB 12.4 MB/s eta 0:00:01\r\u001b[K     |████████████                    | 51 kB 5.1 MB/s eta 0:00:01\r\u001b[K     |██████████████▎                 | 61 kB 6.0 MB/s eta 0:00:01\r\u001b[K     |████████████████▋               | 71 kB 6.8 MB/s eta 0:00:01\r\u001b[K     |███████████████████             | 81 kB 6.1 MB/s eta 0:00:01\r\u001b[K     |█████████████████████▍          | 92 kB 6.7 MB/s eta 0:00:01\r\u001b[K     |███████████████████████▉        | 102 kB 7.4 MB/s eta 0:00:01\r\u001b[K     |██████████████████████████▏     | 112 kB 7.4 MB/s eta 0:00:01\r\u001b[K     |████████████████████████████▋   | 122 kB 7.4 MB/s eta 0:00:01\r\u001b[K     |███████████████████████████████ | 133 kB 7.4 MB/s eta 0:00:01\r\u001b[K     |████████████████████████████████| 137 kB 7.4 MB/s \n",
            "\u001b[?25hRequirement already satisfied: scipy>=0.17.0 in /usr/local/lib/python3.7/dist-packages (from wfdb) (1.4.1)\n",
            "Collecting matplotlib>=3.3.4\n",
            "  Downloading matplotlib-3.5.1-cp37-cp37m-manylinux_2_5_x86_64.manylinux1_x86_64.whl (11.2 MB)\n",
            "\u001b[K     |████████████████████████████████| 11.2 MB 48.4 MB/s \n",
            "\u001b[?25hRequirement already satisfied: pandas>=0.17.0 in /usr/local/lib/python3.7/dist-packages (from wfdb) (1.3.5)\n",
            "Requirement already satisfied: numpy>=1.10.1 in /usr/local/lib/python3.7/dist-packages (from wfdb) (1.21.5)\n",
            "Requirement already satisfied: requests>=2.8.1 in /usr/local/lib/python3.7/dist-packages (from wfdb) (2.23.0)\n",
            "Requirement already satisfied: pyparsing>=2.2.1 in /usr/local/lib/python3.7/dist-packages (from matplotlib>=3.3.4->wfdb) (3.0.8)\n",
            "Requirement already satisfied: kiwisolver>=1.0.1 in /usr/local/lib/python3.7/dist-packages (from matplotlib>=3.3.4->wfdb) (1.4.2)\n",
            "Requirement already satisfied: python-dateutil>=2.7 in /usr/local/lib/python3.7/dist-packages (from matplotlib>=3.3.4->wfdb) (2.8.2)\n",
            "Requirement already satisfied: cycler>=0.10 in /usr/local/lib/python3.7/dist-packages (from matplotlib>=3.3.4->wfdb) (0.11.0)\n",
            "Requirement already satisfied: pillow>=6.2.0 in /usr/local/lib/python3.7/dist-packages (from matplotlib>=3.3.4->wfdb) (7.1.2)\n",
            "Requirement already satisfied: packaging>=20.0 in /usr/local/lib/python3.7/dist-packages (from matplotlib>=3.3.4->wfdb) (21.3)\n",
            "Collecting fonttools>=4.22.0\n",
            "  Downloading fonttools-4.32.0-py3-none-any.whl (900 kB)\n",
            "\u001b[K     |████████████████████████████████| 900 kB 50.9 MB/s \n",
            "\u001b[?25hRequirement already satisfied: typing-extensions in /usr/local/lib/python3.7/dist-packages (from kiwisolver>=1.0.1->matplotlib>=3.3.4->wfdb) (4.1.1)\n",
            "Requirement already satisfied: pytz>=2017.3 in /usr/local/lib/python3.7/dist-packages (from pandas>=0.17.0->wfdb) (2018.9)\n",
            "Requirement already satisfied: six>=1.5 in /usr/local/lib/python3.7/dist-packages (from python-dateutil>=2.7->matplotlib>=3.3.4->wfdb) (1.15.0)\n",
            "Requirement already satisfied: urllib3!=1.25.0,!=1.25.1,<1.26,>=1.21.1 in /usr/local/lib/python3.7/dist-packages (from requests>=2.8.1->wfdb) (1.24.3)\n",
            "Requirement already satisfied: chardet<4,>=3.0.2 in /usr/local/lib/python3.7/dist-packages (from requests>=2.8.1->wfdb) (3.0.4)\n",
            "Requirement already satisfied: idna<3,>=2.5 in /usr/local/lib/python3.7/dist-packages (from requests>=2.8.1->wfdb) (2.10)\n",
            "Requirement already satisfied: certifi>=2017.4.17 in /usr/local/lib/python3.7/dist-packages (from requests>=2.8.1->wfdb) (2021.10.8)\n",
            "Installing collected packages: fonttools, matplotlib, wfdb\n",
            "  Attempting uninstall: matplotlib\n",
            "    Found existing installation: matplotlib 3.2.2\n",
            "    Uninstalling matplotlib-3.2.2:\n",
            "      Successfully uninstalled matplotlib-3.2.2\n",
            "\u001b[31mERROR: pip's dependency resolver does not currently take into account all the packages that are installed. This behaviour is the source of the following dependency conflicts.\n",
            "albumentations 0.1.12 requires imgaug<0.2.7,>=0.2.5, but you have imgaug 0.2.9 which is incompatible.\u001b[0m\n",
            "Successfully installed fonttools-4.32.0 matplotlib-3.5.1 wfdb-3.4.1\n"
          ]
        },
        {
          "output_type": "display_data",
          "data": {
            "application/vnd.colab-display-data+json": {
              "pip_warning": {
                "packages": [
                  "matplotlib",
                  "mpl_toolkits"
                ]
              }
            }
          },
          "metadata": {}
        }
      ],
      "source": [
        "pip install wfdb"
      ]
    },
    {
      "cell_type": "code",
      "execution_count": 6,
      "metadata": {
        "colab": {
          "base_uri": "https://localhost:8080/"
        },
        "id": "9fi2_z3u67jr",
        "outputId": "29257420-1863-4a5f-d323-28cdaad956ca"
      },
      "outputs": [
        {
          "output_type": "stream",
          "name": "stdout",
          "text": [
            "Collecting neurokit2\n",
            "  Downloading neurokit2-0.1.7-py2.py3-none-any.whl (1.1 MB)\n",
            "\u001b[K     |████████████████████████████████| 1.1 MB 6.5 MB/s \n",
            "\u001b[?25hRequirement already satisfied: scipy in /usr/local/lib/python3.7/dist-packages (from neurokit2) (1.4.1)\n",
            "Requirement already satisfied: pandas in /usr/local/lib/python3.7/dist-packages (from neurokit2) (1.3.5)\n",
            "Requirement already satisfied: matplotlib in /usr/local/lib/python3.7/dist-packages (from neurokit2) (3.5.1)\n",
            "Requirement already satisfied: numpy in /usr/local/lib/python3.7/dist-packages (from neurokit2) (1.21.5)\n",
            "Requirement already satisfied: scikit-learn in /usr/local/lib/python3.7/dist-packages (from neurokit2) (1.0.2)\n",
            "Requirement already satisfied: kiwisolver>=1.0.1 in /usr/local/lib/python3.7/dist-packages (from matplotlib->neurokit2) (1.4.2)\n",
            "Requirement already satisfied: packaging>=20.0 in /usr/local/lib/python3.7/dist-packages (from matplotlib->neurokit2) (21.3)\n",
            "Requirement already satisfied: fonttools>=4.22.0 in /usr/local/lib/python3.7/dist-packages (from matplotlib->neurokit2) (4.32.0)\n",
            "Requirement already satisfied: cycler>=0.10 in /usr/local/lib/python3.7/dist-packages (from matplotlib->neurokit2) (0.11.0)\n",
            "Requirement already satisfied: pyparsing>=2.2.1 in /usr/local/lib/python3.7/dist-packages (from matplotlib->neurokit2) (3.0.8)\n",
            "Requirement already satisfied: pillow>=6.2.0 in /usr/local/lib/python3.7/dist-packages (from matplotlib->neurokit2) (7.1.2)\n",
            "Requirement already satisfied: python-dateutil>=2.7 in /usr/local/lib/python3.7/dist-packages (from matplotlib->neurokit2) (2.8.2)\n",
            "Requirement already satisfied: typing-extensions in /usr/local/lib/python3.7/dist-packages (from kiwisolver>=1.0.1->matplotlib->neurokit2) (4.1.1)\n",
            "Requirement already satisfied: six>=1.5 in /usr/local/lib/python3.7/dist-packages (from python-dateutil>=2.7->matplotlib->neurokit2) (1.15.0)\n",
            "Requirement already satisfied: pytz>=2017.3 in /usr/local/lib/python3.7/dist-packages (from pandas->neurokit2) (2018.9)\n",
            "Requirement already satisfied: joblib>=0.11 in /usr/local/lib/python3.7/dist-packages (from scikit-learn->neurokit2) (1.1.0)\n",
            "Requirement already satisfied: threadpoolctl>=2.0.0 in /usr/local/lib/python3.7/dist-packages (from scikit-learn->neurokit2) (3.1.0)\n",
            "Installing collected packages: neurokit2\n",
            "Successfully installed neurokit2-0.1.7\n"
          ]
        }
      ],
      "source": [
        "pip install neurokit2"
      ]
    },
    {
      "cell_type": "code",
      "execution_count": 7,
      "metadata": {
        "id": "pJumHYM567gy"
      },
      "outputs": [],
      "source": [
        "from flask_ngrok import run_with_ngrok\n",
        "from flask import Flask, request, render_template\n",
        "import pandas as pd\n",
        "import tensorflow as tf\n",
        "import keras\n",
        "from keras.models import load_model\n",
        "import wfdb\n",
        "import numpy as np\n",
        "from scipy.signal import butter, filtfilt"
      ]
    },
    {
      "cell_type": "code",
      "execution_count": 8,
      "metadata": {
        "id": "TMoi_nto67dq"
      },
      "outputs": [],
      "source": [
        "app = Flask(__name__)\n",
        "run_with_ngrok(app)"
      ]
    },
    {
      "cell_type": "code",
      "execution_count": 9,
      "metadata": {
        "id": "e0YFQ71667az"
      },
      "outputs": [],
      "source": [
        "# app = Flask(__name__)\n",
        "path = r\"/content/gdrive/My Drive/arrhythmia/\"\n",
        "import sys\n",
        "\n",
        "@app.route('/', methods=['GET', 'POST'])\n",
        "def main():\n",
        "    arrhythmic = 0\n",
        "    condition = \"\"\n",
        "    ratio = 0\n",
        "    output = {}\n",
        "    \n",
        "    # If a form is submitted\n",
        "    if request.method == \"POST\":\n",
        "\n",
        "        myfiledat = request.files[\"myfiledat\"]\n",
        "        myfilehea = request.files[\"myfilehea\"]\n",
        "\n",
        "\n",
        "        myfiledat.save(myfiledat.filename)\n",
        "        myfilehea.save(myfilehea.filename)\n",
        "\n",
        "\n",
        "\n",
        "        file_name_array = myfiledat.filename.split('.')\n",
        "        record = wfdb.rdrecord(file_name_array[0])\n",
        "\n",
        "        model = load_model(\"splitonpatients.h5\")\n",
        "        # record = wfdb.rdrecord(\"100\")\n",
        "\n",
        "        def resamplerecord(signal, frequency, targetfrequency):\n",
        "            from wfdb import processing\n",
        "            ratio = targetfrequency / frequency\n",
        "            if ratio == 1.0:\n",
        "              return signal\n",
        "\n",
        "            newsignal = []\n",
        "            channels = np.shape(signal)[1]\n",
        "            for channel in range(channels):\n",
        "              ns, _ = wfdb.processing.resample_sig(signal[:,channel], frequency, targetfrequency)\n",
        "              newsignal.append(ns)\n",
        "            \n",
        "\n",
        "            return np.column_stack(newsignal)\n",
        "          \n",
        "\n",
        "        def filtersignal(signal, order, cutoff, sample_rate):\n",
        "            nyquist_rate = 0.5 * sample_rate\n",
        "            lowcut, highcut = cutoff[0] / nyquist_rate, cutoff[1] / nyquist_rate\n",
        "            b, a = butter(order, [lowcut,highcut], btype = 'band')\n",
        "\n",
        "            newsignal = []\n",
        "            channels = np.shape(signal)[1]\n",
        "            for channel in range(channels):\n",
        "              ns = filtfilt(b, a, signal[:,channel])\n",
        "              newsignal.append(ns)\n",
        "\n",
        "            return np.column_stack(newsignal)\n",
        "\n",
        "        \n",
        "        from sklearn.preprocessing import StandardScaler\n",
        "        import neurokit2 as nk\n",
        "\n",
        "\n",
        "        frequency = record.fs\n",
        "        sequences = []\n",
        "\n",
        "        record.p_signal = resamplerecord(record.p_signal, frequency, 360)\n",
        "        record.p_signal = filtersignal(record.p_signal, order = 5, cutoff = [0.5,15], sample_rate = 360)\n",
        "\n",
        "        scaler = StandardScaler()\n",
        "        record.p_signal = scaler.fit_transform(record.p_signal)\n",
        "\n",
        "        _, rpeaks = nk.ecg_peaks(record.p_signal[:,0], sampling_rate = 360)\n",
        "        rpeaks = rpeaks['ECG_R_Peaks'].tolist()\n",
        "\n",
        "        window = 256\n",
        "        for i, sample in enumerate(rpeaks):\n",
        "            sequence = np.array([])\n",
        "            start, end = sample - window // 2, sample + window // 2\n",
        "            \n",
        "            if 0 < start < end < record.p_signal.shape[0]:\n",
        "            \n",
        "              sequence = record.p_signal[start:end, 0]\n",
        "              sequence.reshape(1, -1, 1)\n",
        "\n",
        "              if (sequence.size > 0) :\n",
        "                sequences.append(sequence)\n",
        "\n",
        "        x = np.vstack(sequences)\n",
        "        x = np.reshape(x, (x.shape[0], x.shape[1], 1))\n",
        "        predictions = model.predict(x)\n",
        "\n",
        "        \n",
        "        normal = 0\n",
        "        \n",
        "        for (x,y), value in np.ndenumerate(predictions):\n",
        "          # print(value)\n",
        "          if(value >= 0.5):\n",
        "            arrhythmic += 1\n",
        "          else:\n",
        "            normal += 1\n",
        "\n",
        "        print(f\"Hello world! {arrhythmic}\", file=sys.stderr)\n",
        "        print(\"Arrhythmic\", arrhythmic)\n",
        "\n",
        "        print(\"Normal\", normal)\n",
        "\n",
        "        ratio = arrhythmic/(arrhythmic+normal)\n",
        "        print(\"Ratio\", ratio)\n",
        "\n",
        "\n",
        "        if(ratio < 0.001):\n",
        "          condition = \"No arrhythmia detected\"\n",
        "        elif (ratio < 0.002):\n",
        "          condition = \"Mild\"\n",
        "        elif (ratio < 0.005):\n",
        "          condition = \"Moderate\"\n",
        "        elif (ratio < 0.007):\n",
        "          condition = \"Severe\"\n",
        "        else :\n",
        "          condition = \"Critical\"\n",
        "\n",
        "        print(\"Condition\", condition)\n",
        "\n",
        "        # Get values through input bars\n",
        "        \n",
        "        \n",
        "        # weight = request.form.get(\"weight\")\n",
        "        \n",
        "        # Put inputs to dataframe\n",
        "        # X = pd.DataFrame([[height, weight]], columns = [\"Height\", \"Weight\"])\n",
        "        \n",
        "        # Get prediction\n",
        "        output = {\"arrhythmic\": arrhythmic, \"condition\": condition}\n",
        "        print(output)\n",
        "        \n",
        "    else:\n",
        "        output = {\"arrhythmic\": arrhythmic, \"arrythmic\": condition}\n",
        "        # arrhythmic = 0\n",
        "        \n",
        "    return render_template(\"website.html\", output = output)\n",
        "\n",
        "# Running the app\n"
      ]
    },
    {
      "cell_type": "code",
      "execution_count": 10,
      "metadata": {
        "colab": {
          "base_uri": "https://localhost:8080/"
        },
        "id": "Db44JhPv7YZI",
        "outputId": "9f8efd02-9af5-499d-e81d-3c6a43aede87"
      },
      "outputs": [
        {
          "output_type": "stream",
          "name": "stdout",
          "text": [
            " * Serving Flask app \"__main__\" (lazy loading)\n",
            " * Environment: production\n",
            "\u001b[31m   WARNING: This is a development server. Do not use it in a production deployment.\u001b[0m\n",
            "\u001b[2m   Use a production WSGI server instead.\u001b[0m\n",
            " * Debug mode: off\n"
          ]
        },
        {
          "output_type": "stream",
          "name": "stderr",
          "text": [
            " * Running on http://127.0.0.1:5000/ (Press CTRL+C to quit)\n"
          ]
        },
        {
          "output_type": "stream",
          "name": "stdout",
          "text": [
            " * Running on http://3571-34-125-20-12.ngrok.io\n",
            " * Traffic stats available on http://127.0.0.1:4040\n"
          ]
        },
        {
          "output_type": "stream",
          "name": "stderr",
          "text": [
            "127.0.0.1 - - [19/Apr/2022 09:40:14] \"\u001b[37mGET / HTTP/1.1\u001b[0m\" 200 -\n",
            "127.0.0.1 - - [19/Apr/2022 09:40:14] \"\u001b[37mGET /static/css/style.css HTTP/1.1\u001b[0m\" 200 -\n",
            "127.0.0.1 - - [19/Apr/2022 09:40:15] \"\u001b[33mGET /favicon.ico HTTP/1.1\u001b[0m\" 404 -\n",
            "Hello world! 8\n",
            "127.0.0.1 - - [19/Apr/2022 09:41:00] \"\u001b[37mPOST / HTTP/1.1\u001b[0m\" 200 -\n"
          ]
        },
        {
          "output_type": "stream",
          "name": "stdout",
          "text": [
            "Arrhythmic 8\n",
            "Normal 2263\n",
            "Ratio 0.0035226772346983706\n",
            "Condition Moderate\n",
            "{'arrhythmic': 8, 'condition': 'Moderate'}\n"
          ]
        }
      ],
      "source": [
        "app.run()\n"
      ]
    }
  ],
  "metadata": {
    "colab": {
      "collapsed_sections": [],
      "name": "Arrhythmia UI.ipynb",
      "provenance": []
    },
    "kernelspec": {
      "display_name": "Python 3",
      "name": "python3"
    },
    "language_info": {
      "name": "python"
    }
  },
  "nbformat": 4,
  "nbformat_minor": 0
}